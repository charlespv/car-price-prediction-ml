{
 "cells": [
  {
   "cell_type": "code",
   "execution_count": 1,
   "metadata": {},
   "outputs": [
    {
     "name": "stderr",
     "output_type": "stream",
     "text": [
      "[nltk_data] Downloading package punkt to\n",
      "[nltk_data]     /Users/charlespaulasvictor/nltk_data...\n",
      "[nltk_data]   Package punkt is already up-to-date!\n",
      "[nltk_data] Downloading package stopwords to\n",
      "[nltk_data]     /Users/charlespaulasvictor/nltk_data...\n",
      "[nltk_data]   Package stopwords is already up-to-date!\n"
     ]
    }
   ],
   "source": [
    "import os\n",
    "import autopluspy\n",
    "\n",
    "import pandas as pd\n",
    "import numpy as np"
   ]
  },
  {
   "cell_type": "code",
   "execution_count": 2,
   "metadata": {},
   "outputs": [],
   "source": [
    "# Config\n",
    "dataset_file_path = os.path.join('data', 'Data_cars.csv')\n",
    "reg_mdl_filename = 'final_reg.sav'\n",
    "std_mdl_filename = 'final_std.sav'\n",
    "features_filename = 'final_features.sav'"
   ]
  },
  {
   "cell_type": "code",
   "execution_count": 3,
   "metadata": {},
   "outputs": [
    {
     "name": "stdout",
     "output_type": "stream",
     "text": [
      "# Drop duplicated content\n",
      "Dataset shape :  (166695, 9)\n",
      "# After process\n",
      "Dataset shape :  (166695, 9)\n",
      "# Drop column and rows containing missing value\n",
      "Dataset shape :  (166695, 9)\n",
      "# After process\n",
      "Dataset shape :  (166695, 9)\n",
      "shape before NLP :  (166695, 19)\n",
      "## Copy Description\n",
      "## Extract Option\n",
      "## Remove special caracters\n",
      "## Tokenize\n",
      "## Stemmize\n",
      "## Count Vect\n",
      "(166695, 119306)\n",
      "## PCA\n",
      "## PCA Fit\n",
      "## PCA Transform\n",
      "shape after NLP :  (166695, 119)\n",
      "# Drop column and rows containing missing value\n",
      "Dataset shape :  (166695, 117)\n",
      "# After process\n",
      "Dataset shape :  (166695, 117)\n",
      "Shape before removing outlier :  (166695, 117)\n",
      "Shape after removing outlier :  (166655, 117)\n",
      "Shape before removing outlier :  (166655, 117)\n",
      "Shape after removing outlier :  (166526, 117)\n",
      "Shape before removing outlier :  (166526, 117)\n",
      "Shape after removing outlier :  (166320, 117)\n",
      "Shape before removing outlier :  (166320, 117)\n",
      "Shape after removing outlier :  (166432, 117)\n",
      "# Drop column and rows containing missing value\n",
      "Dataset shape :  (166432, 111)\n",
      "# After process\n",
      "Dataset shape :  (166432, 111)\n"
     ]
    }
   ],
   "source": [
    "# Load Data\n",
    "X, y, quanti_features, quali_features = autopluspy.data_eng.learn_set(dataset_file_path, 'Price')"
   ]
  },
  {
   "cell_type": "code",
   "execution_count": 4,
   "metadata": {},
   "outputs": [
    {
     "name": "stderr",
     "output_type": "stream",
     "text": [
      "/Users/charlespaulasvictor/Documents/HETIC/M2/ANN/projet/newversion/car-price-prediction-ml/autopluspy/machine_learning.py:41: SettingWithCopyWarning: \n",
      "A value is trying to be set on a copy of a slice from a DataFrame.\n",
      "Try using .loc[row_indexer,col_indexer] = value instead\n",
      "\n",
      "See the caveats in the documentation: https://pandas.pydata.org/pandas-docs/stable/user_guide/indexing.html#returning-a-view-versus-a-copy\n",
      "  self.x_train_scaled[quanti_features] = self.scale_mdl.transform(self.x_train[quanti_features])\n",
      "/Users/charlespaulasvictor/Documents/HETIC/M2/ANN/projet/newversion/car-price-prediction-ml/venv/lib/python3.7/site-packages/pandas/core/indexing.py:966: SettingWithCopyWarning: \n",
      "A value is trying to be set on a copy of a slice from a DataFrame.\n",
      "Try using .loc[row_indexer,col_indexer] = value instead\n",
      "\n",
      "See the caveats in the documentation: https://pandas.pydata.org/pandas-docs/stable/user_guide/indexing.html#returning-a-view-versus-a-copy\n",
      "  self.obj[item] = s\n",
      "/Users/charlespaulasvictor/Documents/HETIC/M2/ANN/projet/newversion/car-price-prediction-ml/autopluspy/machine_learning.py:42: SettingWithCopyWarning: \n",
      "A value is trying to be set on a copy of a slice from a DataFrame.\n",
      "Try using .loc[row_indexer,col_indexer] = value instead\n",
      "\n",
      "See the caveats in the documentation: https://pandas.pydata.org/pandas-docs/stable/user_guide/indexing.html#returning-a-view-versus-a-copy\n",
      "  self.x_test_scaled[quanti_features] = self.scale_mdl.transform(self.x_test[quanti_features])\n",
      "/Users/charlespaulasvictor/Documents/HETIC/M2/ANN/projet/newversion/car-price-prediction-ml/venv/lib/python3.7/site-packages/pandas/core/indexing.py:966: SettingWithCopyWarning: \n",
      "A value is trying to be set on a copy of a slice from a DataFrame.\n",
      "Try using .loc[row_indexer,col_indexer] = value instead\n",
      "\n",
      "See the caveats in the documentation: https://pandas.pydata.org/pandas-docs/stable/user_guide/indexing.html#returning-a-view-versus-a-copy\n",
      "  self.obj[item] = s\n"
     ]
    }
   ],
   "source": [
    "# Split\n",
    "X_train, y_train, X_test, y_test = autopluspy.machine_learning.split_train_test(X, y, 0.2)\n",
    "\n",
    "# Train\n",
    "reg = autopluspy.machine_learning.Model(X_train, y_train, X_test, y_test, quanti_features)"
   ]
  },
  {
   "cell_type": "code",
   "execution_count": 5,
   "metadata": {},
   "outputs": [],
   "source": [
    "#reg.grid_search()"
   ]
  },
  {
   "cell_type": "code",
   "execution_count": 6,
   "metadata": {
    "pycharm": {
     "name": "#%%\n"
    }
   },
   "outputs": [
    {
     "name": "stdout",
     "output_type": "stream",
     "text": [
      "[  9.5610105  186.31157276  10.27441666  22.48274099   9.59482845]\n"
     ]
    }
   ],
   "source": [
    "cv_score = reg.cross_val(5)"
   ]
  },
  {
   "cell_type": "code",
   "execution_count": 7,
   "metadata": {},
   "outputs": [],
   "source": [
    "#np.mean(cv_score)"
   ]
  },
  {
   "cell_type": "code",
   "execution_count": 8,
   "metadata": {},
   "outputs": [
    {
     "name": "stdout",
     "output_type": "stream",
     "text": [
      "Coefficient of determination:  0.8218832008079351\n",
      "MAPE Ridge :  23.2942445486404\n",
      "MAPE Power Transformed + RF :  9.721095691501407\n"
     ]
    }
   ],
   "source": [
    "reg.performance()"
   ]
  },
  {
   "cell_type": "code",
   "execution_count": 9,
   "metadata": {},
   "outputs": [],
   "source": [
    "reg.export(reg_mdl_filename, std_mdl_filename, features_filename)"
   ]
  },
  {
   "cell_type": "code",
   "execution_count": 10,
   "metadata": {
    "scrolled": true
   },
   "outputs": [],
   "source": [
    "#reg.permutation_importance()"
   ]
  },
  {
   "cell_type": "code",
   "execution_count": 11,
   "metadata": {},
   "outputs": [],
   "source": [
    "#!streamlit run app.py"
   ]
  }
 ],
 "metadata": {
  "kernelspec": {
   "display_name": "Python 3",
   "language": "python",
   "name": "python3"
  },
  "language_info": {
   "codemirror_mode": {
    "name": "ipython",
    "version": 3
   },
   "file_extension": ".py",
   "mimetype": "text/x-python",
   "name": "python",
   "nbconvert_exporter": "python",
   "pygments_lexer": "ipython3",
   "version": "3.7.6"
  },
  "pycharm": {
   "stem_cell": {
    "cell_type": "raw",
    "metadata": {
     "collapsed": false
    },
    "source": []
   }
  }
 },
 "nbformat": 4,
 "nbformat_minor": 4
}
