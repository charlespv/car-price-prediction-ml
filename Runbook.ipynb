{
 "cells": [
  {
   "cell_type": "code",
   "execution_count": 1,
   "metadata": {},
   "outputs": [],
   "source": [
    "import os\n",
    "import airpy\n",
    "\n",
    "import pandas as pd\n",
    "import numpy as np"
   ]
  },
  {
   "cell_type": "code",
   "execution_count": 2,
   "metadata": {},
   "outputs": [],
   "source": [
    "# Config\n",
    "dataset_file_path = os.path.join('data', 'Data_cars.csv')\n",
    "model_filename = 'final_model.sav'"
   ]
  },
  {
   "cell_type": "code",
   "execution_count": 3,
   "metadata": {},
   "outputs": [
    {
     "name": "stdout",
     "output_type": "stream",
     "text": [
      "# Drop duplicated content\n",
      "Dataset shape :  (166695, 9)\n",
      "# After process\n",
      "Dataset shape :  (166695, 9)\n",
      "# Drop column and rows containing missing value\n",
      "Dataset shape :  (166695, 9)\n",
      "# After process\n",
      "Dataset shape :  (166695, 9)\n",
      "# Drop column and rows containing missing value\n",
      "Dataset shape :  (166695, 18)\n",
      "# After process\n",
      "Dataset shape :  (166695, 18)\n",
      "Shape before removing outlier :  (166695, 18)\n",
      "Shape after removing outlier :  (166655, 18)\n",
      "Shape before removing outlier :  (166655, 18)\n",
      "Shape after removing outlier :  (166526, 18)\n",
      "Shape before removing outlier :  (166526, 18)\n",
      "Shape after removing outlier :  (166320, 18)\n",
      "Shape before removing outlier :  (166320, 18)\n",
      "Shape after removing outlier :  (166432, 18)\n"
     ]
    }
   ],
   "source": [
    "# Load Data\n",
    "X, y = airpy.data_eng.learn_set(dataset_file_path, 'Price')"
   ]
  },
  {
   "cell_type": "code",
   "execution_count": 4,
   "metadata": {},
   "outputs": [
    {
     "name": "stderr",
     "output_type": "stream",
     "text": [
      "/Users/charlespaulasvictor/Documents/HETIC/M2/ANN/projet/car-price-prediction-ml/airpy/machine_learning.py:43: SettingWithCopyWarning: \n",
      "A value is trying to be set on a copy of a slice from a DataFrame.\n",
      "Try using .loc[row_indexer,col_indexer] = value instead\n",
      "\n",
      "See the caveats in the documentation: https://pandas.pydata.org/pandas-docs/stable/user_guide/indexing.html#returning-a-view-versus-a-copy\n",
      "  self.x_train_scaled[quanti_features] = self.scale_mdl.transform(self.x_train[quanti_features])\n",
      "/Users/charlespaulasvictor/Documents/HETIC/M2/ANN/projet/car-price-prediction-ml/venv/lib/python3.7/site-packages/pandas/core/indexing.py:966: SettingWithCopyWarning: \n",
      "A value is trying to be set on a copy of a slice from a DataFrame.\n",
      "Try using .loc[row_indexer,col_indexer] = value instead\n",
      "\n",
      "See the caveats in the documentation: https://pandas.pydata.org/pandas-docs/stable/user_guide/indexing.html#returning-a-view-versus-a-copy\n",
      "  self.obj[item] = s\n",
      "/Users/charlespaulasvictor/Documents/HETIC/M2/ANN/projet/car-price-prediction-ml/airpy/machine_learning.py:44: SettingWithCopyWarning: \n",
      "A value is trying to be set on a copy of a slice from a DataFrame.\n",
      "Try using .loc[row_indexer,col_indexer] = value instead\n",
      "\n",
      "See the caveats in the documentation: https://pandas.pydata.org/pandas-docs/stable/user_guide/indexing.html#returning-a-view-versus-a-copy\n",
      "  self.x_test_scaled[quanti_features] = self.scale_mdl.transform(self.x_test[quanti_features])\n",
      "/Users/charlespaulasvictor/Documents/HETIC/M2/ANN/projet/car-price-prediction-ml/venv/lib/python3.7/site-packages/pandas/core/indexing.py:966: SettingWithCopyWarning: \n",
      "A value is trying to be set on a copy of a slice from a DataFrame.\n",
      "Try using .loc[row_indexer,col_indexer] = value instead\n",
      "\n",
      "See the caveats in the documentation: https://pandas.pydata.org/pandas-docs/stable/user_guide/indexing.html#returning-a-view-versus-a-copy\n",
      "  self.obj[item] = s\n"
     ]
    }
   ],
   "source": [
    "# Split\n",
    "X_train, y_train, X_test, y_test = airpy.machine_learning.split_train_test(X, y, 0.2)\n",
    "\n",
    "# Train\n",
    "quanti_features = ['Model_year', 'Mileage', \n",
    "                   'pub_month', 'pub_year', \n",
    "                   'car_age', 'descrip_cylindre', \n",
    "                   'descrip_portes']\n",
    "reg = airpy.machine_learning.Model(X_train, y_train, X_test, y_test, quanti_features)"
   ]
  },
  {
   "cell_type": "code",
   "execution_count": 5,
   "metadata": {},
   "outputs": [
    {
     "name": "stdout",
     "output_type": "stream",
     "text": [
      "Coefficient of determination:  0.8154992887615815\n",
      "MAPE:  23.70158382262907\n",
      "MAPE Power Transformed:  11.626418142860429\n",
      "MAE Power Transformed:  11.626418142860429\n"
     ]
    }
   ],
   "source": [
    "reg.performance()"
   ]
  },
  {
   "cell_type": "code",
   "execution_count": 6,
   "metadata": {},
   "outputs": [],
   "source": [
    "reg.export(model_filename)"
   ]
  },
  {
   "cell_type": "code",
   "execution_count": 7,
   "metadata": {},
   "outputs": [],
   "source": [
    "!streamlit run app.py"
   ]
  }
 ],
 "metadata": {
  "kernelspec": {
   "display_name": "Python 3",
   "language": "python",
   "name": "python3"
  },
  "language_info": {
   "codemirror_mode": {
    "name": "ipython",
    "version": 3
   },
   "file_extension": ".py",
   "mimetype": "text/x-python",
   "name": "python",
   "nbconvert_exporter": "python",
   "pygments_lexer": "ipython3",
   "version": "3.7.6"
  }
 },
 "nbformat": 4,
 "nbformat_minor": 4
}
