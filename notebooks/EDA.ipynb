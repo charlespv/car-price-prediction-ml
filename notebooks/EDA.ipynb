{
 "cells": [
  {
   "cell_type": "code",
   "execution_count": 2,
   "metadata": {},
   "outputs": [],
   "source": [
    "import pandas as pd"
   ]
  },
  {
   "cell_type": "code",
   "execution_count": 3,
   "metadata": {},
   "outputs": [
    {
     "data": {
      "text/html": [
       "<div>\n",
       "<style scoped>\n",
       "    .dataframe tbody tr th:only-of-type {\n",
       "        vertical-align: middle;\n",
       "    }\n",
       "\n",
       "    .dataframe tbody tr th {\n",
       "        vertical-align: top;\n",
       "    }\n",
       "\n",
       "    .dataframe thead th {\n",
       "        text-align: right;\n",
       "    }\n",
       "</style>\n",
       "<table border=\"1\" class=\"dataframe\">\n",
       "  <thead>\n",
       "    <tr style=\"text-align: right;\">\n",
       "      <th></th>\n",
       "      <th>Price</th>\n",
       "      <th>Make</th>\n",
       "      <th>Model</th>\n",
       "      <th>Model_year</th>\n",
       "      <th>Mileage</th>\n",
       "      <th>Fuel</th>\n",
       "      <th>Gearbox</th>\n",
       "      <th>Online</th>\n",
       "      <th>Description</th>\n",
       "    </tr>\n",
       "  </thead>\n",
       "  <tbody>\n",
       "    <tr>\n",
       "      <th>0</th>\n",
       "      <td>11220.0</td>\n",
       "      <td>PEUGEOT</td>\n",
       "      <td>308</td>\n",
       "      <td>2014</td>\n",
       "      <td>94341.0 km</td>\n",
       "      <td>Diesel</td>\n",
       "      <td>mécanique</td>\n",
       "      <td>06/07/2018 à 3h47</td>\n",
       "      <td>modele: 308 (2E GENERATION), version: 1.6 HDI ...</td>\n",
       "    </tr>\n",
       "    <tr>\n",
       "      <th>1</th>\n",
       "      <td>57526.0</td>\n",
       "      <td>BMW</td>\n",
       "      <td>X6</td>\n",
       "      <td>2015</td>\n",
       "      <td>39051.0 km</td>\n",
       "      <td>Diesel</td>\n",
       "      <td>automatique</td>\n",
       "      <td>03/04/2018 à 16h41</td>\n",
       "      <td>modele: X6 F16, version: (F16) XDRIVE30D 258 M...</td>\n",
       "    </tr>\n",
       "    <tr>\n",
       "      <th>2</th>\n",
       "      <td>80379.0</td>\n",
       "      <td>AUDI</td>\n",
       "      <td>RS6</td>\n",
       "      <td>2014</td>\n",
       "      <td>75381.0 km</td>\n",
       "      <td>Essence</td>\n",
       "      <td>automatique</td>\n",
       "      <td>30/07/2018 à 1h55</td>\n",
       "      <td>modele: RS6 (3E GENERATION) AVANT, version: II...</td>\n",
       "    </tr>\n",
       "    <tr>\n",
       "      <th>3</th>\n",
       "      <td>2830.0</td>\n",
       "      <td>FORD</td>\n",
       "      <td>KA</td>\n",
       "      <td>2007</td>\n",
       "      <td>92282.0 km</td>\n",
       "      <td>Essence</td>\n",
       "      <td>mécanique</td>\n",
       "      <td>09/07/2018 à 14h12</td>\n",
       "      <td>modele: KA, version: 1.3 70 FUN, puissance_fis...</td>\n",
       "    </tr>\n",
       "    <tr>\n",
       "      <th>4</th>\n",
       "      <td>12925.0</td>\n",
       "      <td>FIAT</td>\n",
       "      <td>TIPO</td>\n",
       "      <td>2018</td>\n",
       "      <td>10.0 km</td>\n",
       "      <td>Essence</td>\n",
       "      <td>mécanique</td>\n",
       "      <td>19/05/2018 à 3h52</td>\n",
       "      <td>modele: TIPO 2 SW, version: II SW 1.4 95 POP, ...</td>\n",
       "    </tr>\n",
       "  </tbody>\n",
       "</table>\n",
       "</div>"
      ],
      "text/plain": [
       "     Price     Make Model  Model_year     Mileage     Fuel      Gearbox  \\\n",
       "0  11220.0  PEUGEOT   308        2014  94341.0 km   Diesel    mécanique   \n",
       "1  57526.0      BMW    X6        2015  39051.0 km   Diesel  automatique   \n",
       "2  80379.0     AUDI   RS6        2014  75381.0 km  Essence  automatique   \n",
       "3   2830.0     FORD    KA        2007  92282.0 km  Essence    mécanique   \n",
       "4  12925.0     FIAT  TIPO        2018     10.0 km  Essence    mécanique   \n",
       "\n",
       "               Online                                        Description  \n",
       "0   06/07/2018 à 3h47  modele: 308 (2E GENERATION), version: 1.6 HDI ...  \n",
       "1  03/04/2018 à 16h41  modele: X6 F16, version: (F16) XDRIVE30D 258 M...  \n",
       "2   30/07/2018 à 1h55  modele: RS6 (3E GENERATION) AVANT, version: II...  \n",
       "3  09/07/2018 à 14h12  modele: KA, version: 1.3 70 FUN, puissance_fis...  \n",
       "4   19/05/2018 à 3h52  modele: TIPO 2 SW, version: II SW 1.4 95 POP, ...  "
      ]
     },
     "execution_count": 3,
     "metadata": {},
     "output_type": "execute_result"
    }
   ],
   "source": [
    "df = pd.read_csv('../data/Data_cars.csv')\n",
    "df.head()"
   ]
  },
  {
   "cell_type": "code",
   "execution_count": null,
   "metadata": {},
   "outputs": [],
   "source": []
  }
 ],
 "metadata": {
  "kernelspec": {
   "display_name": "Python 3",
   "language": "python",
   "name": "python3"
  },
  "language_info": {
   "codemirror_mode": {
    "name": "ipython",
    "version": 3
   },
   "file_extension": ".py",
   "mimetype": "text/x-python",
   "name": "python",
   "nbconvert_exporter": "python",
   "pygments_lexer": "ipython3",
   "version": "3.7.6"
  }
 },
 "nbformat": 4,
 "nbformat_minor": 4
}
